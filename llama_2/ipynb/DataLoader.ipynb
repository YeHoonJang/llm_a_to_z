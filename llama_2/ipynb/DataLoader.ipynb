{
 "cells": [
  {
   "cell_type": "code",
   "execution_count": 2,
   "id": "9c362759",
   "metadata": {},
   "outputs": [],
   "source": [
    "import torch\n",
    "from torch.utils.data import Dataset, DataLoader, ConcatDataset\n",
    "\n",
    "from transformers import AutoTokenizer, AutoModelForCausalLM"
   ]
  },
  {
   "cell_type": "code",
   "execution_count": 3,
   "id": "764c14b9",
   "metadata": {},
   "outputs": [
    {
     "name": "stderr",
     "output_type": "stream",
     "text": [
      "Loading checkpoint shards: 100%|███████████████████████████████████████████████| 2/2 [00:02<00:00,  1.30s/it]\n"
     ]
    }
   ],
   "source": [
    "tokenizer = AutoTokenizer.from_pretrained(\"meta-llama/Llama-2-7b-hf\", use_auth_token=True)\n",
    "model = AutoModelForCausalLM.from_pretrained(\"meta-llama/Llama-2-7b-hf\", use_auth_token=True)"
   ]
  },
  {
   "cell_type": "code",
   "execution_count": null,
   "id": "b2a5e2b1",
   "metadata": {},
   "outputs": [],
   "source": [
    "class ChatDataset(Dataset):\n",
    "    def __init__(self, data, tokenizer):\n",
    "        self.data = data\n",
    "        self.tokenizer = tokenizer\n",
    "\n",
    "    def __len__(self):\n",
    "        return len(self.data)\n",
    "\n",
    "    def __getitem__(self, idx):\n",
    "        conversation = self.data[idx]['input']\n",
    "        # We need to split the conversation into individual messages\n",
    "        messages = conversation.split('\\n')\n",
    "        # Remove the '[|Human|]' and '[|AI|]' tags and split into source and target\n",
    "        source_messages = [m.replace('[|Human|]', '').strip() for m in messages if '[|Human|]' in m]\n",
    "        target_messages = [m.replace('[|AI|]', '').strip() for m in messages if '[|AI|]' in m]\n",
    "        # Take the last human message as source and the corresponding AI response as target\n",
    "        source = source_messages[-1]  # Last human message\n",
    "        target = target_messages[-1] if target_messages else \"\"  # Last AI message. If no AI message, use empty string\n",
    "        # Tokenize the source and target\n",
    "        source = self.tokenizer.encode_plus(source, return_tensors='pt', max_length=512, truncation=True, padding='max_length')\n",
    "        target = self.tokenizer.encode_plus(target, return_tensors='pt', max_length=512, truncation=True, padding='max_length')\n",
    "        return source, target\n",
    "\n",
    "# Create the dataset and dataloader\n",
    "dataset = ChatDataset(data, tokenizer)\n",
    "dataloader = DataLoader(dataset, batch_size=32)"
   ]
  }
 ],
 "metadata": {
  "kernelspec": {
   "display_name": "llm",
   "language": "python",
   "name": "llm"
  },
  "language_info": {
   "codemirror_mode": {
    "name": "ipython",
    "version": 3
   },
   "file_extension": ".py",
   "mimetype": "text/x-python",
   "name": "python",
   "nbconvert_exporter": "python",
   "pygments_lexer": "ipython3",
   "version": "3.11.4"
  }
 },
 "nbformat": 4,
 "nbformat_minor": 5
}
